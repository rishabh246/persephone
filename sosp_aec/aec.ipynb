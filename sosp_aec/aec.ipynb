{
 "cells": [
  {
   "cell_type": "markdown",
   "metadata": {},
   "source": [
    "# Reproducing Perséphone results\n",
    "\n",
    "## General instructions\n",
    "\n",
    "- For each figure, the notebook contains commands to generate and plot the results.\n",
    "- Start a terminal on the docker instance with `docker exec -it CONTAINER_ID /bin/bash`.\n",
    "- Find the container id with `docker ps`.\n",
    "\n",
    "## Featured results\n",
    "\n",
    "- [Figure 3](#Figure-3)\n",
    "- [Figure 4-a](#Figure-4-a)\n",
    "- [Figure 5-a](#Figure-5-a)\n",
    "- [Figure 5-b](#Figure-5-b)\n",
    "- [Figure 6](#Figure-6)\n",
    "- [Figure 7](#Figure-7)\n",
    "- [Figure 8](#Figure-8)\n",
    "\n",
    "Figure 3 summarizes the main findings of the paper: our scheduling policy, DARC, provides much better quality of service to short requests compared to dFCFS and cFCFS.\n",
    "Figure 5 - 7 places DARC in perspective with two kernel-bypass schedulers, Shinjuku and Shenango.\n",
    "\n",
    "Each experiment runs a set of load points, in 5% increment. Each load point represents 5 seconds of traffic (20 seconds in the paper). Each figure presents 3 to 4 scheduling policies. Overall, we estimate that generating the results takes about 2 hours. Plotting itself takes time --- we are working on enhancing the data parsers to make them more performant.\n",
    "\n",
    "The overall process should take about 4 hours.\n",
    "\n",
    "## Notes\n",
    "\n",
    "- Some cloudlab nodes are somewhat more performant than others. We noticed that some nodes have a slightly poorer baseline performance (slowdown and can sustain a bit less load (e.g., 90% instead of 95%)\n",
    "- Make sure to use the correct kernel for Shinjuku (4.4.0-187-generic) and Shenango (4.15.0-142-generic) before generating the respective data\n",
    "- Each figure has a list of experiment (one per load point). You can find this list in /psp/experiments/[Figure number].\n",
    "- Experiments can fail and you will have to rerun them. Specifically, we are aware of the following issues:\n",
    "    - Shremote has a very rare parsing error on an 'host' field, although properly configured. As a results it hangs and must be restarted. In addition the server program must be manually terminated.\n",
    "    - Shinjuku crashes due to \"dune: exit due to unhandled VM exit\". We are aware of instances where Dune renders the machine unusable and requires a reboot.\n",
    "- When plotting, if you see a message such as \"/psp/experiments/CFCFS_0.70_DISP2_14.0/client0/traces_rates does not exist\", you will have to run again this data point\n",
    "- The run.py script can take a --load-range argument. Usage: --load-range [low] [high], where low and high are load bounds used to generate 5% load increments per experiment. For example, --load-range .40 .41 will only run the experiment at 40% load."
   ]
  },
  {
   "cell_type": "code",
   "execution_count": 1,
   "metadata": {},
   "outputs": [
    {
     "data": {
      "text/html": [
       "<style>.container { width:100% !important; }</style>"
      ],
      "text/plain": [
       "<IPython.core.display.HTML object>"
      ]
     },
     "metadata": {},
     "output_type": "display_data"
    }
   ],
   "source": [
    "%matplotlib widget\n",
    "import sys\n",
    "import seaborn as sns\n",
    "import matplotlib\n",
    "import matplotlib.gridspec as gridspec\n",
    "import matplotlib.pyplot as plt\n",
    "import matplotlib.colors as mcolors\n",
    "from matplotlib.ticker import ScalarFormatter\n",
    "from matplotlib import lines\n",
    "import pandas as pd\n",
    "import numpy as np\n",
    "from pathlib import Path\n",
    "from loader import *\n",
    "\n",
    "from IPython.core.display import display, HTML\n",
    "display(HTML(\"<style>.container { width:100% !important; }</style>\"))"
   ]
  },
  {
   "cell_type": "markdown",
   "metadata": {},
   "source": [
    "# Figure 3"
   ]
  },
  {
   "cell_type": "code",
   "execution_count": null,
   "metadata": {
    "scrolled": false
   },
   "outputs": [],
   "source": [
    "# To generate the results, issue the following commands\n",
    "# 1) `${PSP_DIR}/Persephone/sosp_aec/base_start.sh Persephone` on the server. Do `export PSP_DIR=/usr/local/sosp` if necessary.\n",
    "# 2) Then run the following in the container:\n",
    "# /psp/Shremote_cfgs/run.py 0 psp DISP2 -p DARC CFCFS DFCFS --load-range .05 1.01\n",
    "\n",
    "plot_p99s(['Figure3'], reset_cache=False, use_ylim=True, clients=[0,1,2,3,4,5], value=\"p99.9\", close_all=True, remove_drops=True, ncols=3)"
   ]
  },
  {
   "cell_type": "markdown",
   "metadata": {},
   "source": [
    "# Figure 4-a"
   ]
  },
  {
   "cell_type": "code",
   "execution_count": null,
   "metadata": {},
   "outputs": [],
   "source": [
    "# 1) `${PSP_DIR}/Persephone/sosp_aec/base_start.sh Persephone` on the server\n",
    "# 2) Then run the following in the container:\n",
    "# /psp/Shremote_cfgs/fig4.sh\n",
    "\n",
    "plot_wcc('Figure4_a', reset_cache=False, value='p99.9', darc_cores=1, clients=[0,1,2,3,4,5])"
   ]
  },
  {
   "cell_type": "markdown",
   "metadata": {},
   "source": [
    "# Figure 5-a"
   ]
  },
  {
   "cell_type": "code",
   "execution_count": null,
   "metadata": {
    "scrolled": false
   },
   "outputs": [],
   "source": [
    "# Shinjuku data:\n",
    "# 1) `${PSP_DIR}/Persephone/sosp_aec/base_start.sh shinjuku` on the server\n",
    "# 2) Then run the following in the container:\n",
    "# /psp/Shremote_cfgs/run.py 0 shinjuku DISP2_IX -p cPREMQ --load-range .05 .81\n",
    "\n",
    "# Perséphone data: already generated for figure 3\n",
    "\n",
    "# Shenango data:\n",
    "# 1) `sudo ${PSP_DIR}/Persephone/scripts/setup/pick_kernel.sh 4.15.0-142-generic && sudo reboot`\n",
    "# 2) `export PSP_DIR=/usr/local/sosp && ${PSP_DIR}/Persephone/sosp_aec/base_start.sh Shenango` on the server\n",
    "# 3) /psp/Shremote_cfgs/run.py 0 shenango DISP2 -p CFCFS DFCFS --load-range .05 .91\n",
    "\n",
    "plot_p99s(['Figure5_a'], reset_cache=False, use_ylim=True, clients=[0,1,2,3,4,5], value=\"p99.9\", close_all=True, remove_drops=True)"
   ]
  },
  {
   "cell_type": "markdown",
   "metadata": {},
   "source": [
    "# Figure 5-b"
   ]
  },
  {
   "cell_type": "code",
   "execution_count": null,
   "metadata": {
    "scrolled": false
   },
   "outputs": [],
   "source": [
    "# Shinjuku data:\n",
    "# 1) `${PSP_DIR}/Persephone/sosp_aec/base_start.sh shinjuku` on the server\n",
    "# 2) `/psp/Shremote_cfgs/run.py 0 shinjuku SBIM2_IX -p cPRESQ --load-range .05 .61`\n",
    "\n",
    "# Perséphone data:\n",
    "# 1) `${PSP_DIR}/Persephone/sosp_aec/base_start.sh Persephone` on the server\n",
    "# 2) `/psp/Shremote_cfgs/run.py 0 psp SBIM2 -p DARC --load-range .05 .86`\n",
    "\n",
    "# Shenango data:\n",
    "# 1) `sudo ${PSP_DIR}/Persephone/scripts/setup/pick_kernel.sh 4.15.0-142-generic && sudo reboot`\n",
    "# 2) `export PSP_DIR=/usr/local/sosp && ${PSP_DIR}/Persephone/sosp_aec/base_start.sh Shenango` on the server\n",
    "# 3) `/psp/Shremote_cfgs/run.py 0 shenango SBIM2 -p CFCFS DFCFS --load-range .05 .86`\n",
    "\n",
    "plot_p99s(['Figure5_b'], reset_cache=False, use_ylim=True, clients=[0,1,2,3,4,5], value=\"p99.9\", close_all=True, remove_drops=True)"
   ]
  },
  {
   "cell_type": "markdown",
   "metadata": {},
   "source": [
    "# Figure 6"
   ]
  },
  {
   "cell_type": "code",
   "execution_count": null,
   "metadata": {
    "scrolled": false
   },
   "outputs": [],
   "source": [
    "# Shinjuku data:\n",
    "# 1) `${PSP_DIR}/Persephone/sosp_aec/base_start.sh shinjuku` on the server\n",
    "# 2) `/psp/Shremote_cfgs/run.py 0 shinjuku TPCC_IX -p cPREMQ --load-range .05 .91`\n",
    "\n",
    "# Perséphone data:\n",
    "# 1) `${PSP_DIR}/Persephone/sosp_aec/base_start.sh Persephone` on the server\n",
    "# 2) `/psp/Shremote_cfgs/run.py 0 psp TPCC -p DARC --load-range .05 .91`\n",
    "\n",
    "# Shenango data:\n",
    "# 1) `sudo ${PSP_DIR}/Persephone/scripts/setup/pick_kernel.sh 4.15.0-142-generic && sudo reboot`\n",
    "# 2) `export PSP_DIR=/usr/local/sosp && ${PSP_DIR}/Persephone/sosp_aec/base_start.sh Shenango` on the server\n",
    "# 3) `/psp/Shremote_cfgs/run.py 0 shenango TPCC -p CFCFS DFCFS --load-range .05 .96`\n",
    "\n",
    "plot_p99s(['Figure6'], ncols=-1, app='TPCC', reset_cache=False, use_ylim=True, clients=[0,1,2,3,4,5], value=\"p99.9\", close_all=True, remove_drops=True)"
   ]
  },
  {
   "cell_type": "markdown",
   "metadata": {},
   "source": [
    "# Figure 7"
   ]
  },
  {
   "cell_type": "code",
   "execution_count": null,
   "metadata": {},
   "outputs": [],
   "source": [
    "# Shinjuku data:\n",
    "# 1) `${PSP_DIR}/Persephone/sosp_aec/base_start.sh shinjuku` on the server\n",
    "# 2) `/psp/Shremote_cfgs/run.py 0 shinjuku ROCKSDB_IX -p cPREMQ --load-range .05 .80 --app-type ROCKSDB`\n",
    "\n",
    "# Perséphone data:\n",
    "# 1) `${PSP_DIR}/Persephone/sosp_aec/base_start.sh Persephone` on the server\n",
    "# 2) `/psp/Shremote_cfgs/run.py 0 psp ROCKSDB -p DARC --app-type ROCKSDB`\n",
    "\n",
    "# Shenango data:\n",
    "# 1) Reboot the machine with Linux 4.15.0-142-generic using pick_kernel.sh\n",
    "# 2) `${PSP_DIR}/Persephone/sosp_aec/base_start.sh Shenango` on the server\n",
    "# 3) `/psp/Shremote_cfgs/run.py 0 shenango ROCKSDB -p CFCFS --app-type ROCKSDB --load-range .05 .65`\n",
    "\n",
    "plot_p99s(['Figure7'], app='ROCKSDB', ncols=1, reset_cache=False, use_ylim=True, clients=[0,1,2,3,4,5], value=\"p99.9\", close_all=True, remove_drops=True)"
   ]
  },
  {
   "cell_type": "markdown",
   "metadata": {},
   "source": [
    "# Figure 8"
   ]
  },
  {
   "cell_type": "code",
   "execution_count": null,
   "metadata": {
    "scrolled": false
   },
   "outputs": [],
   "source": [
    "# `${PSP_DIR}/Persephone/sosp_aec/base_start.sh Persephone` on the server\n",
    "# `/psp/Shremote_cfgs/run.py 0 psp sched4 -p DARC CFCFS --load-range .80 .81 --downsample 0`\n",
    "plot_agg_p99_over_time(['DARC_0.80_sched4_14.0', 'CFCFS_0.80_sched4_14.0'], reset_cache=False, debug=False)"
   ]
  }
 ],
 "metadata": {
  "kernelspec": {
   "display_name": "Python 3",
   "language": "python",
   "name": "python3"
  },
  "language_info": {
   "codemirror_mode": {
    "name": "ipython",
    "version": 3
   },
   "file_extension": ".py",
   "mimetype": "text/x-python",
   "name": "python",
   "nbconvert_exporter": "python",
   "pygments_lexer": "ipython3",
   "version": "3.6.9"
  }
 },
 "nbformat": 4,
 "nbformat_minor": 4
}
